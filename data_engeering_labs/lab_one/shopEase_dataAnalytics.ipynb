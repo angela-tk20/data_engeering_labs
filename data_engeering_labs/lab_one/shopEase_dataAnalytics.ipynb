{
 "cells": [
  {
   "cell_type": "code",
   "id": "initial_id",
   "metadata": {
    "collapsed": true,
    "ExecuteTime": {
     "end_time": "2024-11-13T01:12:52.525812Z",
     "start_time": "2024-11-13T01:12:52.522123Z"
    }
   },
   "source": [
    "import pandas as pd\n",
    "import numpy as np\n",
    "import matplotlib.pyplot as plt\n",
    "import mysql.connector"
   ],
   "outputs": [],
   "execution_count": 11
  },
  {
   "metadata": {
    "ExecuteTime": {
     "end_time": "2024-11-13T01:12:52.546583Z",
     "start_time": "2024-11-13T01:12:52.543040Z"
    }
   },
   "cell_type": "code",
   "source": [
    "def load_data():\n",
    "    orders_df = pd.read_csv('../ShopEaseData/orders.csv')\n",
    "    products_df = pd.read_csv('../ShopEaseData/products.csv')\n",
    "    \n",
    "    # Merge orders with products to get price information\n",
    "    merged_df = pd.merge(orders_df, products_df, on='product_id', how='left')\n",
    "    return merged_df"
   ],
   "id": "29726ed36213acee",
   "outputs": [],
   "execution_count": 12
  },
  {
   "metadata": {
    "ExecuteTime": {
     "end_time": "2024-11-13T01:12:52.563584Z",
     "start_time": "2024-11-13T01:12:52.559819Z"
    }
   },
   "cell_type": "code",
   "source": [
    "def clean_data(df):\n",
    "    # Drop duplicates\n",
    "    df = df.drop_duplicates()\n",
    "    \n",
    "    # Handle missing values\n",
    "    df = df.dropna()\n",
    "    \n",
    "    # Convert data types\n",
    "    df['order_date'] = pd.to_datetime(df['order_date'])\n",
    "    df['quantity'] = df['quantity'].astype(int)\n",
    "    df['price'] = df['price'].astype(float)\n",
    "    \n",
    "    return df"
   ],
   "id": "1b901e1f1402d814",
   "outputs": [],
   "execution_count": 13
  },
  {
   "metadata": {
    "ExecuteTime": {
     "end_time": "2024-11-13T01:12:52.579765Z",
     "start_time": "2024-11-13T01:12:52.576293Z"
    }
   },
   "cell_type": "code",
   "source": [
    "def calculate_revenue(df):\n",
    "    quantities = df['quantity'].to_numpy()\n",
    "    prices = df['price'].to_numpy()\n",
    "    revenue = np.multiply(quantities, prices)\n",
    "    \n",
    "    # Add revenue column to DataFrame\n",
    "    df['revenue'] = revenue\n",
    "    return df"
   ],
   "id": "7214c380913afe3f",
   "outputs": [],
   "execution_count": 14
  },
  {
   "metadata": {
    "ExecuteTime": {
     "end_time": "2024-11-13T01:12:52.598027Z",
     "start_time": "2024-11-13T01:12:52.594021Z"
    }
   },
   "cell_type": "code",
   "source": [
    "def transform_dates(df):\n",
    "    df['order_date'] = pd.to_datetime(df['order_date'])\n",
    "    # Create new columns for year, month, and day\n",
    "    df['year'] = df['order_date'].dt.year\n",
    "    df['month'] = df['order_date'].dt.month\n",
    "    df['day'] = df['order_date'].dt.day\n",
    "    return df"
   ],
   "id": "75ad7b63903b8da9",
   "outputs": [],
   "execution_count": 15
  },
  {
   "metadata": {
    "ExecuteTime": {
     "end_time": "2024-11-13T01:12:52.616402Z",
     "start_time": "2024-11-13T01:12:52.612037Z"
    }
   },
   "cell_type": "code",
   "source": [
    "def plot_monthly_sales(df):\n",
    "    # Group by month and calculate total revenue for each month\n",
    "    monthly_sales = df.groupby('month')['revenue'].sum()\n",
    "    \n",
    "    # Plotting with Pandas\n",
    "    monthly_sales.plot(kind='bar', figsize=(10, 6), color='skyblue')\n",
    "    plt.title('Monthly Sales Trend')\n",
    "    plt.xlabel('Month')\n",
    "    plt.ylabel('Total Revenue ($)')\n",
    "    plt.xticks(rotation=0)\n",
    "    plt.tight_layout()\n",
    "    plt.savefig('monthly_sales_trend.png')\n",
    "    # plt.show()\n",
    "    plt.close()"
   ],
   "id": "ab8fc5236d88f40b",
   "outputs": [],
   "execution_count": 16
  },
  {
   "metadata": {
    "ExecuteTime": {
     "end_time": "2024-11-13T01:12:52.635432Z",
     "start_time": "2024-11-13T01:12:52.631415Z"
    }
   },
   "cell_type": "code",
   "source": [
    "def create_database_schema():\n",
    "    # Connect to MySQL\n",
    "    conn = mysql.connector.connect(\n",
    "        host=\"localhost\",\n",
    "        user=\"angela\",\n",
    "        password=\"angela@user\"\n",
    "    )\n",
    "    cursor = conn.cursor()\n",
    "    \n",
    "    cursor.execute(\"CREATE DATABASE IF NOT EXISTS shopease\")\n",
    "    cursor.execute(\"USE shopease\")\n",
    "   \n",
    "    cursor.execute(\"\"\"\n",
    "        CREATE TABLE IF NOT EXISTS sales (\n",
    "            order_id INT PRIMARY KEY,\n",
    "            customer_id INT,\n",
    "            order_date DATE,\n",
    "            product_id INT,\n",
    "            quantity INT,\n",
    "            revenue FLOAT,\n",
    "            year INT,\n",
    "            month INT,\n",
    "            day INT\n",
    "        )\n",
    "    \"\"\")\n",
    "    \n",
    "    conn.commit()\n",
    "    conn.close()"
   ],
   "id": "e895ea84f5f8b814",
   "outputs": [],
   "execution_count": 17
  },
  {
   "metadata": {
    "ExecuteTime": {
     "end_time": "2024-11-13T01:12:52.653488Z",
     "start_time": "2024-11-13T01:12:52.647318Z"
    }
   },
   "cell_type": "code",
   "source": [
    "def load_to_database(df):\n",
    "    # Connect to the MySQL database\n",
    "    conn = mysql.connector.connect(\n",
    "        host=\"localhost\",\n",
    "        user=\"angela\",\n",
    "        password=\"angela@user\",\n",
    "        database=\"shopease\"\n",
    "    )\n",
    "    cursor = conn.cursor()\n",
    "    \n",
    "    # Insert data row by row into `sales` table\n",
    "    insert_query = \"\"\"\n",
    "        INSERT INTO sales (order_id, customer_id, order_date, product_id, quantity, revenue, year, month, day)\n",
    "        VALUES (%s, %s, %s, %s, %s, %s, %s, %s, %s)\n",
    "    \"\"\"\n",
    "    \n",
    "    # Track any failed insertions\n",
    "    failed_rows = []\n",
    "    \n",
    "    for _, row in df.iterrows():\n",
    "        try:\n",
    "            cursor.execute(insert_query, (\n",
    "                row['order_id'], row['customer_id'], row['order_date'],\n",
    "                row['product_id'], row['quantity'], row['revenue'],\n",
    "                row['year'], row['month'], row['day']\n",
    "            ))\n",
    "        except Exception as e:\n",
    "            print(f\"Failed to insert row {row['order_id']}: {e}\")\n",
    "            failed_rows.append(row)\n",
    "    \n",
    "    conn.commit()\n",
    "    conn.close()\n",
    "    \n",
    "\n",
    "    print(f\"Inserted {len(df) - len(failed_rows)} rows successfully.\")"
   ],
   "id": "52fdc87845a9238a",
   "outputs": [],
   "execution_count": 18
  },
  {
   "metadata": {
    "ExecuteTime": {
     "end_time": "2024-11-13T01:12:52.670354Z",
     "start_time": "2024-11-13T01:12:52.665663Z"
    }
   },
   "cell_type": "code",
   "source": [
    "def main():\n",
    "\n",
    "    print(\"1. Loading data...\")\n",
    "    df = load_data()\n",
    "    \n",
    "    print(\"2. Cleaning data...\")\n",
    "    df = clean_data(df)\n",
    "    \n",
    "    print(\"3. Calculating revenue...\")\n",
    "    df = calculate_revenue(df)\n",
    "    \n",
    "    print(\"4. Transforming dates...\")\n",
    "    df = transform_dates(df)\n",
    "    \n",
    "    print(\"5. Creating visualization...\")\n",
    "    plot_monthly_sales(df)\n",
    "    \n",
    "    print(\"6. Creating database schema...\")\n",
    "    create_database_schema()\n",
    "    \n",
    "    print(\"7. Loading data to database...\")\n",
    "    load_to_database(df)\n",
    "    \n",
    "    print(\"\\nSample of processed data:\")\n",
    "    print(df.head())\n",
    "    \n",
    "    return df"
   ],
   "id": "ef6e3ad39b573db0",
   "outputs": [],
   "execution_count": 19
  },
  {
   "metadata": {
    "ExecuteTime": {
     "end_time": "2024-11-13T01:12:53.129663Z",
     "start_time": "2024-11-13T01:12:52.683695Z"
    }
   },
   "cell_type": "code",
   "source": [
    "if __name__ == \"__main__\":\n",
    "    processed_df = main()"
   ],
   "id": "7413c653522bdd1f",
   "outputs": [
    {
     "name": "stdout",
     "output_type": "stream",
     "text": [
      "1. Loading data...\n",
      "2. Cleaning data...\n",
      "3. Calculating revenue...\n",
      "4. Transforming dates...\n",
      "5. Creating visualization...\n",
      "6. Creating database schema...\n",
      "7. Loading data to database...\n",
      "Inserted 570 rows successfully.\n",
      "\n",
      "Sample of processed data:\n",
      "   order_id  customer_id order_date  product_id  quantity product_name  \\\n",
      "0         1           20 2024-11-01           3         2       Tablet   \n",
      "1         2           36 2024-11-01           1         1       Laptop   \n",
      "2         3            1 2024-11-01           8         3   Headphones   \n",
      "3         4           36 2024-11-02           6         1   Smartwatch   \n",
      "4         5           14 2024-11-02          12         2         Desk   \n",
      "\n",
      "      category   price  revenue  year  month  day  \n",
      "0  Electronics   450.0    900.0  2024     11    1  \n",
      "1  Electronics  1200.0   1200.0  2024     11    1  \n",
      "2  Electronics   150.0    450.0  2024     11    1  \n",
      "3  Electronics   200.0    200.0  2024     11    2  \n",
      "4    Furniture   300.0    600.0  2024     11    2  \n"
     ]
    }
   ],
   "execution_count": 20
  }
 ],
 "metadata": {
  "kernelspec": {
   "display_name": "Python 3",
   "language": "python",
   "name": "python3"
  },
  "language_info": {
   "codemirror_mode": {
    "name": "ipython",
    "version": 2
   },
   "file_extension": ".py",
   "mimetype": "text/x-python",
   "name": "python",
   "nbconvert_exporter": "python",
   "pygments_lexer": "ipython2",
   "version": "2.7.6"
  }
 },
 "nbformat": 4,
 "nbformat_minor": 5
}
